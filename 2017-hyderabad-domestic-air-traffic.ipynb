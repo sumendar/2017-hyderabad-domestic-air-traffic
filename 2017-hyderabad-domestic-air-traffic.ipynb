{
    "nbformat_minor": 1, 
    "cells": [
        {
            "execution_count": 16, 
            "cell_type": "code", 
            "metadata": {
                "slideshow": {
                    "slide_type": "slide"
                }
            }, 
            "outputs": [], 
            "source": "# The code was removed by DSX for sharing."
        }, 
        {
            "execution_count": 11, 
            "cell_type": "code", 
            "metadata": {
                "slideshow": {
                    "slide_type": "slide"
                }
            }, 
            "outputs": [], 
            "source": "df.data.1 <- read.csv(\"https://query.data.world/s/ctnyny3uk5yv3iqicf3n2p5nui7ugy\", header=TRUE);\n# https://query.data.world/s/ctnyny3uk5yv3iqicf3n2p5nui7ugy"
        }, 
        {
            "execution_count": 12, 
            "cell_type": "code", 
            "metadata": {
                "slideshow": {
                    "slide_type": "slide"
                }
            }, 
            "outputs": [
                {
                    "output_type": "stream", 
                    "name": "stdout", 
                    "text": "'data.frame':\t376 obs. of  6 variables:\n $ Year                  : int  2017 2017 2017 2017 2017 2017 2017 2017 2017 2017 ...\n $ Month                 : Factor w/ 10 levels \"April\",\"August\",..: 1 1 1 1 1 1 1 1 1 1 ...\n $ CITY.1                : Factor w/ 1 level \"HYDERABAD\": 1 1 1 1 1 1 1 1 1 1 ...\n $ CITY.2                : Factor w/ 46 levels \"AGARTALA\",\"AHMEDABAD\",..: 1 3 4 8 9 17 18 19 22 23 ...\n $ PASSENGERS.TO.CITY.2  : int  49 1461 0 4195 48886 5533 2237 9770 5063 5704 ...\n $ PASSENGERS.FROM.CITY.2: int  55 1791 422 3661 49131 5943 2802 9775 4455 5764 ...\n"
                }
            ], 
            "source": "str(df.data.1)"
        }, 
        {
            "execution_count": 3, 
            "cell_type": "code", 
            "metadata": {
                "slideshow": {
                    "slide_type": "slide"
                }
            }, 
            "outputs": [
                {
                    "output_type": "display_data", 
                    "data": {
                        "text/html": "<table>\n<thead><tr><th scope=col>Year</th><th scope=col>Month</th><th scope=col>CITY.1</th><th scope=col>CITY.2</th><th scope=col>PASSENGERS.TO.CITY.2</th><th scope=col>PASSENGERS.FROM.CITY.2</th></tr></thead>\n<tbody>\n\t<tr><td>2017      </td><td>April     </td><td>HYDERABAD </td><td>AGARTALA  </td><td>   49     </td><td>   55     </td></tr>\n\t<tr><td>2017      </td><td>April     </td><td>HYDERABAD </td><td>AURANGABAD</td><td> 1461     </td><td> 1791     </td></tr>\n\t<tr><td>2017      </td><td>April     </td><td>HYDERABAD </td><td>BAGDOGRA  </td><td>    0     </td><td>  422     </td></tr>\n\t<tr><td>2017      </td><td>April     </td><td>HYDERABAD </td><td>CHANDIGARH</td><td> 4195     </td><td> 3661     </td></tr>\n\t<tr><td>2017      </td><td>April     </td><td>HYDERABAD </td><td>CHENNAI   </td><td>48886     </td><td>49131     </td></tr>\n\t<tr><td>2017      </td><td>April     </td><td>HYDERABAD </td><td>INDORE    </td><td> 5533     </td><td> 5943     </td></tr>\n</tbody>\n</table>\n", 
                        "text/latex": "\\begin{tabular}{r|llllll}\n Year & Month & CITY.1 & CITY.2 & PASSENGERS.TO.CITY.2 & PASSENGERS.FROM.CITY.2\\\\\n\\hline\n\t 2017       & April      & HYDERABAD  & AGARTALA   &    49      &    55     \\\\\n\t 2017       & April      & HYDERABAD  & AURANGABAD &  1461      &  1791     \\\\\n\t 2017       & April      & HYDERABAD  & BAGDOGRA   &     0      &   422     \\\\\n\t 2017       & April      & HYDERABAD  & CHANDIGARH &  4195      &  3661     \\\\\n\t 2017       & April      & HYDERABAD  & CHENNAI    & 48886      & 49131     \\\\\n\t 2017       & April      & HYDERABAD  & INDORE     &  5533      &  5943     \\\\\n\\end{tabular}\n", 
                        "text/markdown": "\nYear | Month | CITY.1 | CITY.2 | PASSENGERS.TO.CITY.2 | PASSENGERS.FROM.CITY.2 | \n|---|---|---|---|---|---|\n| 2017       | April      | HYDERABAD  | AGARTALA   |    49      |    55      | \n| 2017       | April      | HYDERABAD  | AURANGABAD |  1461      |  1791      | \n| 2017       | April      | HYDERABAD  | BAGDOGRA   |     0      |   422      | \n| 2017       | April      | HYDERABAD  | CHANDIGARH |  4195      |  3661      | \n| 2017       | April      | HYDERABAD  | CHENNAI    | 48886      | 49131      | \n| 2017       | April      | HYDERABAD  | INDORE     |  5533      |  5943      | \n\n\n", 
                        "text/plain": "  Year Month CITY.1    CITY.2     PASSENGERS.TO.CITY.2 PASSENGERS.FROM.CITY.2\n1 2017 April HYDERABAD AGARTALA      49                   55                 \n2 2017 April HYDERABAD AURANGABAD  1461                 1791                 \n3 2017 April HYDERABAD BAGDOGRA       0                  422                 \n4 2017 April HYDERABAD CHANDIGARH  4195                 3661                 \n5 2017 April HYDERABAD CHENNAI    48886                49131                 \n6 2017 April HYDERABAD INDORE      5533                 5943                 "
                    }, 
                    "metadata": {}
                }
            ], 
            "source": "# The code was removed by DSX for sharing."
        }, 
        {
            "execution_count": 6, 
            "cell_type": "code", 
            "metadata": {
                "slideshow": {
                    "slide_type": "slide"
                }
            }, 
            "outputs": [
                {
                    "output_type": "stream", 
                    "name": "stdout", 
                    "text": "'data.frame':\t376 obs. of  6 variables:\n $ Year                  : int  2017 2017 2017 2017 2017 2017 2017 2017 2017 2017 ...\n $ Month                 : Factor w/ 10 levels \"April\",\"August\",..: 1 1 1 1 1 1 1 1 1 1 ...\n $ CITY.1                : Factor w/ 1 level \"HYDERABAD\": 1 1 1 1 1 1 1 1 1 1 ...\n $ CITY.2                : Factor w/ 46 levels \"AGARTALA\",\"AHMEDABAD\",..: 1 3 4 8 9 17 18 19 22 23 ...\n $ PASSENGERS.TO.CITY.2  : int  49 1461 0 4195 48886 5533 2237 9770 5063 5704 ...\n $ PASSENGERS.FROM.CITY.2: int  55 1791 422 3661 49131 5943 2802 9775 4455 5764 ...\n"
                }
            ], 
            "source": "str(df.data.1)"
        }, 
        {
            "execution_count": 10, 
            "cell_type": "code", 
            "metadata": {
                "slideshow": {
                    "slide_type": "subslide"
                }
            }, 
            "outputs": [
                {
                    "output_type": "display_data", 
                    "data": {
                        "text/html": "<ol class=list-inline>\n\t<li>'bucket'</li>\n\t<li>'df.data.1'</li>\n\t<li>'headers'</li>\n\t<li>'obj'</li>\n\t<li>'url'</li>\n</ol>\n", 
                        "text/latex": "\\begin{enumerate*}\n\\item 'bucket'\n\\item 'df.data.1'\n\\item 'headers'\n\\item 'obj'\n\\item 'url'\n\\end{enumerate*}\n", 
                        "text/markdown": "1. 'bucket'\n2. 'df.data.1'\n3. 'headers'\n4. 'obj'\n5. 'url'\n\n\n", 
                        "text/plain": "[1] \"bucket\"    \"df.data.1\" \"headers\"   \"obj\"       \"url\"      "
                    }, 
                    "metadata": {}
                }
            ], 
            "source": "# The code was removed by DSX for sharing."
        }, 
        {
            "execution_count": 5, 
            "cell_type": "code", 
            "metadata": {
                "slideshow": {
                    "slide_type": "slide"
                }
            }, 
            "outputs": [
                {
                    "output_type": "display_data", 
                    "data": {
                        "text/html": "<table>\n<thead><tr><th></th><th scope=col>mpg</th><th scope=col>cyl</th><th scope=col>disp</th><th scope=col>hp</th><th scope=col>drat</th><th scope=col>wt</th><th scope=col>qsec</th><th scope=col>vs</th><th scope=col>am</th><th scope=col>gear</th><th scope=col>carb</th></tr></thead>\n<tbody>\n\t<tr><th scope=row>Mazda RX4</th><td>21.0 </td><td>6    </td><td>160  </td><td>110  </td><td>3.90 </td><td>2.620</td><td>16.46</td><td>0    </td><td>1    </td><td>4    </td><td>4    </td></tr>\n\t<tr><th scope=row>Mazda RX4 Wag</th><td>21.0 </td><td>6    </td><td>160  </td><td>110  </td><td>3.90 </td><td>2.875</td><td>17.02</td><td>0    </td><td>1    </td><td>4    </td><td>4    </td></tr>\n\t<tr><th scope=row>Datsun 710</th><td>22.8 </td><td>4    </td><td>108  </td><td> 93  </td><td>3.85 </td><td>2.320</td><td>18.61</td><td>1    </td><td>1    </td><td>4    </td><td>1    </td></tr>\n\t<tr><th scope=row>Hornet 4 Drive</th><td>21.4 </td><td>6    </td><td>258  </td><td>110  </td><td>3.08 </td><td>3.215</td><td>19.44</td><td>1    </td><td>0    </td><td>3    </td><td>1    </td></tr>\n\t<tr><th scope=row>Hornet Sportabout</th><td>18.7 </td><td>8    </td><td>360  </td><td>175  </td><td>3.15 </td><td>3.440</td><td>17.02</td><td>0    </td><td>0    </td><td>3    </td><td>2    </td></tr>\n\t<tr><th scope=row>Valiant</th><td>18.1 </td><td>6    </td><td>225  </td><td>105  </td><td>2.76 </td><td>3.460</td><td>20.22</td><td>1    </td><td>0    </td><td>3    </td><td>1    </td></tr>\n</tbody>\n</table>\n", 
                        "text/latex": "\\begin{tabular}{r|lllllllllll}\n  & mpg & cyl & disp & hp & drat & wt & qsec & vs & am & gear & carb\\\\\n\\hline\n\tMazda RX4 & 21.0  & 6     & 160   & 110   & 3.90  & 2.620 & 16.46 & 0     & 1     & 4     & 4    \\\\\n\tMazda RX4 Wag & 21.0  & 6     & 160   & 110   & 3.90  & 2.875 & 17.02 & 0     & 1     & 4     & 4    \\\\\n\tDatsun 710 & 22.8  & 4     & 108   &  93   & 3.85  & 2.320 & 18.61 & 1     & 1     & 4     & 1    \\\\\n\tHornet 4 Drive & 21.4  & 6     & 258   & 110   & 3.08  & 3.215 & 19.44 & 1     & 0     & 3     & 1    \\\\\n\tHornet Sportabout & 18.7  & 8     & 360   & 175   & 3.15  & 3.440 & 17.02 & 0     & 0     & 3     & 2    \\\\\n\tValiant & 18.1  & 6     & 225   & 105   & 2.76  & 3.460 & 20.22 & 1     & 0     & 3     & 1    \\\\\n\\end{tabular}\n", 
                        "text/markdown": "\n| <!--/--> | mpg | cyl | disp | hp | drat | wt | qsec | vs | am | gear | carb | \n|---|---|---|---|---|---|\n| Mazda RX4 | 21.0  | 6     | 160   | 110   | 3.90  | 2.620 | 16.46 | 0     | 1     | 4     | 4     | \n| Mazda RX4 Wag | 21.0  | 6     | 160   | 110   | 3.90  | 2.875 | 17.02 | 0     | 1     | 4     | 4     | \n| Datsun 710 | 22.8  | 4     | 108   |  93   | 3.85  | 2.320 | 18.61 | 1     | 1     | 4     | 1     | \n| Hornet 4 Drive | 21.4  | 6     | 258   | 110   | 3.08  | 3.215 | 19.44 | 1     | 0     | 3     | 1     | \n| Hornet Sportabout | 18.7  | 8     | 360   | 175   | 3.15  | 3.440 | 17.02 | 0     | 0     | 3     | 2     | \n| Valiant | 18.1  | 6     | 225   | 105   | 2.76  | 3.460 | 20.22 | 1     | 0     | 3     | 1     | \n\n\n", 
                        "text/plain": "                  mpg  cyl disp hp  drat wt    qsec  vs am gear carb\nMazda RX4         21.0 6   160  110 3.90 2.620 16.46 0  1  4    4   \nMazda RX4 Wag     21.0 6   160  110 3.90 2.875 17.02 0  1  4    4   \nDatsun 710        22.8 4   108   93 3.85 2.320 18.61 1  1  4    1   \nHornet 4 Drive    21.4 6   258  110 3.08 3.215 19.44 1  0  3    1   \nHornet Sportabout 18.7 8   360  175 3.15 3.440 17.02 0  0  3    2   \nValiant           18.1 6   225  105 2.76 3.460 20.22 1  0  3    1   "
                    }, 
                    "metadata": {}
                }
            ], 
            "source": "head(mtcars)"
        }, 
        {
            "source": "## this is my markdown text cells", 
            "cell_type": "markdown", 
            "metadata": {
                "slideshow": {
                    "slide_type": "slide"
                }
            }
        }, 
        {
            "source": "this is text cell sample", 
            "cell_type": "markdown", 
            "metadata": {
                "slideshow": {
                    "slide_type": "subslide"
                }
            }
        }, 
        {
            "execution_count": null, 
            "cell_type": "code", 
            "metadata": {}, 
            "outputs": [], 
            "source": ""
        }
    ], 
    "metadata": {
        "kernelspec": {
            "display_name": "R", 
            "name": "r", 
            "language": "R"
        }, 
        "language_info": {
            "mimetype": "text/x-r-source", 
            "version": "3.4.2", 
            "name": "R", 
            "pygments_lexer": "r", 
            "file_extension": ".r", 
            "codemirror_mode": "r"
        }, 
        "celltoolbar": "Slideshow"
    }, 
    "nbformat": 4
}